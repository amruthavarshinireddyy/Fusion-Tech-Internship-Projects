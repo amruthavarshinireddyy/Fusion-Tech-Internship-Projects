{
  "nbformat": 4,
  "nbformat_minor": 0,
  "metadata": {
    "colab": {
      "provenance": [],
      "authorship_tag": "ABX9TyOrz1DPzS1meXewhZtAoLIb",
      "include_colab_link": true
    },
    "kernelspec": {
      "name": "python3",
      "display_name": "Python 3"
    },
    "language_info": {
      "name": "python"
    }
  },
  "cells": [
    {
      "cell_type": "markdown",
      "metadata": {
        "id": "view-in-github",
        "colab_type": "text"
      },
      "source": [
        "<a href=\"https://colab.research.google.com/github/amruthavarshinireddyy/Fusion-Tech-Internship-Projects/blob/main/task4numguessing.ipynb\" target=\"_parent\"><img src=\"https://colab.research.google.com/assets/colab-badge.svg\" alt=\"Open In Colab\"/></a>"
      ]
    },
    {
      "cell_type": "markdown",
      "source": [
        "4.SIMPLE NUMBER GUESSING GAME:\n",
        "\n",
        "Objective: To introduce the intern to control flow and randomization.\n",
        "\n",
        "Details: Have the intern develop a number guessing game where the program randomly selects a number within a range, and the user has to guess it. The program should provide feedback (too high, too low) and count the number of attempts.\n",
        "\n",
        "Tools: Python, random module."
      ],
      "metadata": {
        "id": "H2ELfy3IBy_L"
      }
    },
    {
      "cell_type": "code",
      "execution_count": 1,
      "metadata": {
        "id": "hR87utiz7OlJ"
      },
      "outputs": [],
      "source": [
        "import random"
      ]
    },
    {
      "cell_type": "code",
      "source": [
        "def number_guessing_game():\n",
        "    # Randomly select a number between 1 and 100\n",
        "    target_number = random.randint(1, 100)\n",
        "    attempts = 0\n",
        "    guessed_correctly = False\n",
        "\n",
        "    print(\"Welcome to the Number Guessing Game!\")\n",
        "    print(\"I'm thinking of a number between 1 and 100.\")\n",
        "\n",
        "    # Loop until the user guesses the correct number\n",
        "    while not guessed_correctly:\n",
        "        try:\n",
        "            guess = int(input(\"Enter your guess: \"))\n",
        "            attempts += 1\n",
        "\n",
        "            if guess < target_number:\n",
        "                print(\"Too low! Try again.\")\n",
        "            elif guess > target_number:\n",
        "                print(\"Too high! Try again.\")\n",
        "            else:\n",
        "                print(f\"Congratulations! You guessed the correct number {target_number} in {attempts} attempts.\")\n",
        "                guessed_correctly = True\n",
        "\n",
        "        except ValueError:\n",
        "            print(\"Error: Please enter a valid integer.\")\n"
      ],
      "metadata": {
        "id": "hI1WFvmN7lLF"
      },
      "execution_count": 5,
      "outputs": []
    },
    {
      "cell_type": "code",
      "source": [
        "# Run the number guessing game\n",
        "number_guessing_game()"
      ],
      "metadata": {
        "colab": {
          "base_uri": "https://localhost:8080/"
        },
        "id": "IvRK-rxH7vzf",
        "outputId": "05a02a48-10cc-4334-8437-7a0e69941ca7"
      },
      "execution_count": 6,
      "outputs": [
        {
          "output_type": "stream",
          "name": "stdout",
          "text": [
            "Welcome to the Number Guessing Game!\n",
            "I'm thinking of a number between 1 and 100.\n",
            "Enter your guess: 89\n",
            "Too high! Try again.\n",
            "Enter your guess: 78\n",
            "Too high! Try again.\n",
            "Enter your guess: 53\n",
            "Too high! Try again.\n",
            "Enter your guess: 42\n",
            "Too high! Try again.\n",
            "Enter your guess: 12\n",
            "Too low! Try again.\n",
            "Enter your guess: 20\n",
            "Too high! Try again.\n",
            "Enter your guess: 16\n",
            "Too low! Try again.\n",
            "Enter your guess: 19\n",
            "Too high! Try again.\n",
            "Enter your guess: 18\n",
            "Too high! Try again.\n",
            "Enter your guess: 17\n",
            "Congratulations! You guessed the correct number 17 in 10 attempts.\n"
          ]
        }
      ]
    },
    {
      "cell_type": "code",
      "source": [],
      "metadata": {
        "id": "q9-TlBAG7xEl"
      },
      "execution_count": null,
      "outputs": []
    }
  ]
}