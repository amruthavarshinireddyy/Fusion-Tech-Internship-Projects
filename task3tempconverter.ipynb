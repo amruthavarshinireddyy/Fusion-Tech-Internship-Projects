{
  "nbformat": 4,
  "nbformat_minor": 0,
  "metadata": {
    "colab": {
      "provenance": [],
      "authorship_tag": "ABX9TyPivub04ei+Sdc1waUa5oFV",
      "include_colab_link": true
    },
    "kernelspec": {
      "name": "python3",
      "display_name": "Python 3"
    },
    "language_info": {
      "name": "python"
    }
  },
  "cells": [
    {
      "cell_type": "markdown",
      "metadata": {
        "id": "view-in-github",
        "colab_type": "text"
      },
      "source": [
        "<a href=\"https://colab.research.google.com/github/amruthavarshinireddyy/Fusion-Tech-Internship-Projects/blob/main/task3tempconverter.ipynb\" target=\"_parent\"><img src=\"https://colab.research.google.com/assets/colab-badge.svg\" alt=\"Open In Colab\"/></a>"
      ]
    },
    {
      "cell_type": "markdown",
      "source": [
        "3.TEMPERATURE CONVERSION PROGRAM:\n",
        "\n",
        "Objective: To practice working with user input and basic functions.\n",
        "\n",
        "Details: Ask the intern to create a script that converts temperatures between Celsius, Fahrenheit, and Kelvin. The user should be able to choose the conversion type and input the temperature value.\n",
        "\n",
        "Tools: Python."
      ],
      "metadata": {
        "id": "xgnSOVtTBZJ4"
      }
    },
    {
      "cell_type": "code",
      "execution_count": 1,
      "metadata": {
        "colab": {
          "base_uri": "https://localhost:8080/"
        },
        "id": "-Icv4W673mk7",
        "outputId": "ad3c1e4d-7eac-4391-9cd4-a68b821d8837"
      },
      "outputs": [
        {
          "output_type": "stream",
          "name": "stdout",
          "text": [
            "Temperature Conversion Options:\n",
            "1. Celsius to Fahrenheit\n",
            "2. Celsius to Kelvin\n",
            "3. Fahrenheit to Celsius\n",
            "4. Fahrenheit to Kelvin\n",
            "5. Kelvin to Celsius\n",
            "6. Kelvin to Fahrenheit\n",
            "Choose a conversion type (1-6): 1\n",
            "Enter the temperature value: 45\n",
            "45.0°C = 113.00°F\n"
          ]
        }
      ],
      "source": [
        "def celsius_to_fahrenheit(celsius):\n",
        "    return (celsius * 9/5) + 32\n",
        "\n",
        "def celsius_to_kelvin(celsius):\n",
        "    return celsius + 273.15\n",
        "\n",
        "def fahrenheit_to_celsius(fahrenheit):\n",
        "    return (fahrenheit - 32) * 5/9\n",
        "\n",
        "def fahrenheit_to_kelvin(fahrenheit):\n",
        "    return (fahrenheit - 32) * 5/9 + 273.15\n",
        "\n",
        "def kelvin_to_celsius(kelvin):\n",
        "    return kelvin - 273.15\n",
        "\n",
        "def kelvin_to_fahrenheit(kelvin):\n",
        "    return (kelvin - 273.15) * 9/5 + 32\n",
        "\n",
        "def temperature_conversion():\n",
        "    print(\"Temperature Conversion Options:\")\n",
        "    print(\"1. Celsius to Fahrenheit\")\n",
        "    print(\"2. Celsius to Kelvin\")\n",
        "    print(\"3. Fahrenheit to Celsius\")\n",
        "    print(\"4. Fahrenheit to Kelvin\")\n",
        "    print(\"5. Kelvin to Celsius\")\n",
        "    print(\"6. Kelvin to Fahrenheit\")\n",
        "\n",
        "    try:\n",
        "        choice = int(input(\"Choose a conversion type (1-6): \"))\n",
        "        if choice not in range(1, 7):\n",
        "            print(\"Error: Invalid choice. Please select a number between 1 and 6.\")\n",
        "            return\n",
        "\n",
        "        temperature = float(input(\"Enter the temperature value: \"))\n",
        "\n",
        "        if choice == 1:\n",
        "            print(f\"{temperature}°C = {celsius_to_fahrenheit(temperature):.2f}°F\")\n",
        "        elif choice == 2:\n",
        "            print(f\"{temperature}°C = {celsius_to_kelvin(temperature):.2f}K\")\n",
        "        elif choice == 3:\n",
        "            print(f\"{temperature}°F = {fahrenheit_to_celsius(temperature):.2f}°C\")\n",
        "        elif choice == 4:\n",
        "            print(f\"{temperature}°F = {fahrenheit_to_kelvin(temperature):.2f}K\")\n",
        "        elif choice == 5:\n",
        "            print(f\"{temperature}K = {kelvin_to_celsius(temperature):.2f}°C\")\n",
        "        elif choice == 6:\n",
        "            print(f\"{temperature}K = {kelvin_to_fahrenheit(temperature):.2f}°F\")\n",
        "\n",
        "    except ValueError:\n",
        "        print(\"Error: Invalid input. Please enter numeric values for temperature.\")\n",
        "\n",
        "# Run the temperature conversion program\n",
        "temperature_conversion()\n"
      ]
    }
  ]
}