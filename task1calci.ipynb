{
  "nbformat": 4,
  "nbformat_minor": 0,
  "metadata": {
    "colab": {
      "provenance": [],
      "authorship_tag": "ABX9TyMkAGo/1B2zeIWtwLmOxoQe",
      "include_colab_link": true
    },
    "kernelspec": {
      "name": "python3",
      "display_name": "Python 3"
    },
    "language_info": {
      "name": "python"
    }
  },
  "cells": [
    {
      "cell_type": "markdown",
      "metadata": {
        "id": "view-in-github",
        "colab_type": "text"
      },
      "source": [
        "<a href=\"https://colab.research.google.com/github/amruthavarshinireddyy/Fusion-Tech-Internship-Projects/blob/main/task1calci.ipynb\" target=\"_parent\"><img src=\"https://colab.research.google.com/assets/colab-badge.svg\" alt=\"Open In Colab\"/></a>"
      ]
    },
    {
      "cell_type": "markdown",
      "source": [
        "1.BASIC CALCULATOR APPLICATION:\n",
        "\n",
        "Objective: To help the intern practice basic Python syntax and operations.\n",
        "\n",
        "Details: Ask the intern to create a command-line calculator that can perform basic arithmetic operations (addition, subtraction, multiplication, division).\n",
        "\n",
        "Tools: Python."
      ],
      "metadata": {
        "id": "8fWdh8KyBC-_"
      }
    },
    {
      "cell_type": "code",
      "source": [
        "def calculator():\n",
        "    try:\n",
        "        # Get user input\n",
        "        num1 = float(input(\"Enter first number: \"))\n",
        "        operation = input(\"Enter operation (+, -, *, /): \")\n",
        "        num2 = float(input(\"Enter second number: \"))\n",
        "\n",
        "        # Perform the operation\n",
        "        if operation == '+':\n",
        "            result = num1 + num2\n",
        "        elif operation == '-':\n",
        "            result = num1 - num2\n",
        "        elif operation == '*':\n",
        "            result = num1 * num2\n",
        "        elif operation == '/':\n",
        "            if num2 == 0:\n",
        "                print(\"Error: Division by zero is not allowed.\")\n",
        "                return\n",
        "            result = num1 / num2\n",
        "        else:\n",
        "            print(\"Error: Invalid operation.\")\n",
        "            return\n",
        "\n",
        "        # Display the result\n",
        "        print(f\"{num1} {operation} {num2} = {result}\")\n",
        "\n",
        "    except ValueError:\n",
        "        print(\"Error: Invalid input. Please enter numeric values.\")\n",
        "\n",
        "# Run the calculator\n",
        "calculator()\n"
      ],
      "metadata": {
        "colab": {
          "base_uri": "https://localhost:8080/"
        },
        "id": "LPhciosi2Zbt",
        "outputId": "c3c2a132-466c-47b8-9a45-08898625e32b"
      },
      "execution_count": 4,
      "outputs": [
        {
          "output_type": "stream",
          "name": "stdout",
          "text": [
            "Enter first number: 472010\n",
            "Enter operation (+, -, *, /): +\n",
            "Enter second number: 82904\n",
            "472010.0 + 82904.0 = 554914.0\n"
          ]
        }
      ]
    }
  ]
}